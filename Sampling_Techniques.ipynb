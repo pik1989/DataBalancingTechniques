{
  "nbformat": 4,
  "nbformat_minor": 0,
  "metadata": {
    "kernelspec": {
      "display_name": "Python 3",
      "language": "python",
      "name": "python3"
    },
    "language_info": {
      "codemirror_mode": {
        "name": "ipython",
        "version": 3
      },
      "file_extension": ".py",
      "mimetype": "text/x-python",
      "name": "python",
      "nbconvert_exporter": "python",
      "pygments_lexer": "ipython3",
      "version": "3.8.10"
    },
    "colab": {
      "name": "Sampling Techniques.ipynb",
      "provenance": [],
      "collapsed_sections": []
    }
  },
  "cells": [
    {
      "cell_type": "markdown",
      "metadata": {
        "id": "m6A-0q1jYxYW"
      },
      "source": [
        "### Important Libraries to important\n"
      ]
    },
    {
      "cell_type": "code",
      "metadata": {
        "id": "oSP21ICIYxYY"
      },
      "source": [
        "import pandas as pd \n",
        "import numpy as np\n",
        "import matplotlib.pyplot as plt\n",
        "%matplotlib inline\n",
        "import seaborn as sns\n",
        "\n",
        "from sklearn.metrics import confusion_matrix\n",
        "\n",
        "from sklearn.metrics import accuracy_score\n",
        "from sklearn.metrics import precision_score\n",
        "from sklearn.metrics import recall_score\n",
        "from sklearn.metrics import f1_score\n",
        "from sklearn.metrics import classification_report"
      ],
      "execution_count": null,
      "outputs": []
    },
    {
      "cell_type": "markdown",
      "metadata": {
        "id": "vcXeGMfPYxYZ"
      },
      "source": [
        "#### Link to dataset is: https://www.kaggle.com/blastchar/telco-customer-churn"
      ]
    },
    {
      "cell_type": "code",
      "metadata": {
        "id": "1kHUeXHwYxYZ"
      },
      "source": [
        "data= pd.read_csv(\"WA_Fn-UseC_-Telco-Customer-Churn.csv\")"
      ],
      "execution_count": null,
      "outputs": []
    },
    {
      "cell_type": "code",
      "metadata": {
        "id": "R4Le1MsyYxYZ",
        "outputId": "4b05823b-7372-46be-d964-531510d05693"
      },
      "source": [
        "data.head()"
      ],
      "execution_count": null,
      "outputs": [
        {
          "data": {
            "text/html": [
              "<div>\n",
              "<style scoped>\n",
              "    .dataframe tbody tr th:only-of-type {\n",
              "        vertical-align: middle;\n",
              "    }\n",
              "\n",
              "    .dataframe tbody tr th {\n",
              "        vertical-align: top;\n",
              "    }\n",
              "\n",
              "    .dataframe thead th {\n",
              "        text-align: right;\n",
              "    }\n",
              "</style>\n",
              "<table border=\"1\" class=\"dataframe\">\n",
              "  <thead>\n",
              "    <tr style=\"text-align: right;\">\n",
              "      <th></th>\n",
              "      <th>customerID</th>\n",
              "      <th>gender</th>\n",
              "      <th>SeniorCitizen</th>\n",
              "      <th>Partner</th>\n",
              "      <th>Dependents</th>\n",
              "      <th>tenure</th>\n",
              "      <th>PhoneService</th>\n",
              "      <th>MultipleLines</th>\n",
              "      <th>InternetService</th>\n",
              "      <th>OnlineSecurity</th>\n",
              "      <th>...</th>\n",
              "      <th>DeviceProtection</th>\n",
              "      <th>TechSupport</th>\n",
              "      <th>StreamingTV</th>\n",
              "      <th>StreamingMovies</th>\n",
              "      <th>Contract</th>\n",
              "      <th>PaperlessBilling</th>\n",
              "      <th>PaymentMethod</th>\n",
              "      <th>MonthlyCharges</th>\n",
              "      <th>TotalCharges</th>\n",
              "      <th>Churn</th>\n",
              "    </tr>\n",
              "  </thead>\n",
              "  <tbody>\n",
              "    <tr>\n",
              "      <th>0</th>\n",
              "      <td>7590-VHVEG</td>\n",
              "      <td>Female</td>\n",
              "      <td>0</td>\n",
              "      <td>Yes</td>\n",
              "      <td>No</td>\n",
              "      <td>1</td>\n",
              "      <td>No</td>\n",
              "      <td>No phone service</td>\n",
              "      <td>DSL</td>\n",
              "      <td>No</td>\n",
              "      <td>...</td>\n",
              "      <td>No</td>\n",
              "      <td>No</td>\n",
              "      <td>No</td>\n",
              "      <td>No</td>\n",
              "      <td>Month-to-month</td>\n",
              "      <td>Yes</td>\n",
              "      <td>Electronic check</td>\n",
              "      <td>29.85</td>\n",
              "      <td>29.85</td>\n",
              "      <td>No</td>\n",
              "    </tr>\n",
              "    <tr>\n",
              "      <th>1</th>\n",
              "      <td>5575-GNVDE</td>\n",
              "      <td>Male</td>\n",
              "      <td>0</td>\n",
              "      <td>No</td>\n",
              "      <td>No</td>\n",
              "      <td>34</td>\n",
              "      <td>Yes</td>\n",
              "      <td>No</td>\n",
              "      <td>DSL</td>\n",
              "      <td>Yes</td>\n",
              "      <td>...</td>\n",
              "      <td>Yes</td>\n",
              "      <td>No</td>\n",
              "      <td>No</td>\n",
              "      <td>No</td>\n",
              "      <td>One year</td>\n",
              "      <td>No</td>\n",
              "      <td>Mailed check</td>\n",
              "      <td>56.95</td>\n",
              "      <td>1889.5</td>\n",
              "      <td>No</td>\n",
              "    </tr>\n",
              "    <tr>\n",
              "      <th>2</th>\n",
              "      <td>3668-QPYBK</td>\n",
              "      <td>Male</td>\n",
              "      <td>0</td>\n",
              "      <td>No</td>\n",
              "      <td>No</td>\n",
              "      <td>2</td>\n",
              "      <td>Yes</td>\n",
              "      <td>No</td>\n",
              "      <td>DSL</td>\n",
              "      <td>Yes</td>\n",
              "      <td>...</td>\n",
              "      <td>No</td>\n",
              "      <td>No</td>\n",
              "      <td>No</td>\n",
              "      <td>No</td>\n",
              "      <td>Month-to-month</td>\n",
              "      <td>Yes</td>\n",
              "      <td>Mailed check</td>\n",
              "      <td>53.85</td>\n",
              "      <td>108.15</td>\n",
              "      <td>Yes</td>\n",
              "    </tr>\n",
              "    <tr>\n",
              "      <th>3</th>\n",
              "      <td>7795-CFOCW</td>\n",
              "      <td>Male</td>\n",
              "      <td>0</td>\n",
              "      <td>No</td>\n",
              "      <td>No</td>\n",
              "      <td>45</td>\n",
              "      <td>No</td>\n",
              "      <td>No phone service</td>\n",
              "      <td>DSL</td>\n",
              "      <td>Yes</td>\n",
              "      <td>...</td>\n",
              "      <td>Yes</td>\n",
              "      <td>Yes</td>\n",
              "      <td>No</td>\n",
              "      <td>No</td>\n",
              "      <td>One year</td>\n",
              "      <td>No</td>\n",
              "      <td>Bank transfer (automatic)</td>\n",
              "      <td>42.30</td>\n",
              "      <td>1840.75</td>\n",
              "      <td>No</td>\n",
              "    </tr>\n",
              "    <tr>\n",
              "      <th>4</th>\n",
              "      <td>9237-HQITU</td>\n",
              "      <td>Female</td>\n",
              "      <td>0</td>\n",
              "      <td>No</td>\n",
              "      <td>No</td>\n",
              "      <td>2</td>\n",
              "      <td>Yes</td>\n",
              "      <td>No</td>\n",
              "      <td>Fiber optic</td>\n",
              "      <td>No</td>\n",
              "      <td>...</td>\n",
              "      <td>No</td>\n",
              "      <td>No</td>\n",
              "      <td>No</td>\n",
              "      <td>No</td>\n",
              "      <td>Month-to-month</td>\n",
              "      <td>Yes</td>\n",
              "      <td>Electronic check</td>\n",
              "      <td>70.70</td>\n",
              "      <td>151.65</td>\n",
              "      <td>Yes</td>\n",
              "    </tr>\n",
              "  </tbody>\n",
              "</table>\n",
              "<p>5 rows × 21 columns</p>\n",
              "</div>"
            ],
            "text/plain": [
              "   customerID  gender  SeniorCitizen Partner Dependents  tenure PhoneService  \\\n",
              "0  7590-VHVEG  Female              0     Yes         No       1           No   \n",
              "1  5575-GNVDE    Male              0      No         No      34          Yes   \n",
              "2  3668-QPYBK    Male              0      No         No       2          Yes   \n",
              "3  7795-CFOCW    Male              0      No         No      45           No   \n",
              "4  9237-HQITU  Female              0      No         No       2          Yes   \n",
              "\n",
              "      MultipleLines InternetService OnlineSecurity  ... DeviceProtection  \\\n",
              "0  No phone service             DSL             No  ...               No   \n",
              "1                No             DSL            Yes  ...              Yes   \n",
              "2                No             DSL            Yes  ...               No   \n",
              "3  No phone service             DSL            Yes  ...              Yes   \n",
              "4                No     Fiber optic             No  ...               No   \n",
              "\n",
              "  TechSupport StreamingTV StreamingMovies        Contract PaperlessBilling  \\\n",
              "0          No          No              No  Month-to-month              Yes   \n",
              "1          No          No              No        One year               No   \n",
              "2          No          No              No  Month-to-month              Yes   \n",
              "3         Yes          No              No        One year               No   \n",
              "4          No          No              No  Month-to-month              Yes   \n",
              "\n",
              "               PaymentMethod MonthlyCharges  TotalCharges Churn  \n",
              "0           Electronic check          29.85         29.85    No  \n",
              "1               Mailed check          56.95        1889.5    No  \n",
              "2               Mailed check          53.85        108.15   Yes  \n",
              "3  Bank transfer (automatic)          42.30       1840.75    No  \n",
              "4           Electronic check          70.70        151.65   Yes  \n",
              "\n",
              "[5 rows x 21 columns]"
            ]
          },
          "execution_count": 3,
          "metadata": {},
          "output_type": "execute_result"
        }
      ]
    },
    {
      "cell_type": "markdown",
      "metadata": {
        "id": "frtge3FpYxYa"
      },
      "source": [
        "#####  Info of our dataset is mention below that the columns are of which data type"
      ]
    },
    {
      "cell_type": "code",
      "metadata": {
        "id": "bnOVlID_YxYa",
        "outputId": "d71053f4-a96f-41c4-cd7b-f2bf9315acba"
      },
      "source": [
        "data.info()"
      ],
      "execution_count": null,
      "outputs": [
        {
          "name": "stdout",
          "output_type": "stream",
          "text": [
            "<class 'pandas.core.frame.DataFrame'>\n",
            "RangeIndex: 7043 entries, 0 to 7042\n",
            "Data columns (total 21 columns):\n",
            " #   Column            Non-Null Count  Dtype  \n",
            "---  ------            --------------  -----  \n",
            " 0   customerID        7043 non-null   object \n",
            " 1   gender            7043 non-null   object \n",
            " 2   SeniorCitizen     7043 non-null   int64  \n",
            " 3   Partner           7043 non-null   object \n",
            " 4   Dependents        7043 non-null   object \n",
            " 5   tenure            7043 non-null   int64  \n",
            " 6   PhoneService      7043 non-null   object \n",
            " 7   MultipleLines     7043 non-null   object \n",
            " 8   InternetService   7043 non-null   object \n",
            " 9   OnlineSecurity    7043 non-null   object \n",
            " 10  OnlineBackup      7043 non-null   object \n",
            " 11  DeviceProtection  7043 non-null   object \n",
            " 12  TechSupport       7043 non-null   object \n",
            " 13  StreamingTV       7043 non-null   object \n",
            " 14  StreamingMovies   7043 non-null   object \n",
            " 15  Contract          7043 non-null   object \n",
            " 16  PaperlessBilling  7043 non-null   object \n",
            " 17  PaymentMethod     7043 non-null   object \n",
            " 18  MonthlyCharges    7043 non-null   float64\n",
            " 19  TotalCharges      7043 non-null   object \n",
            " 20  Churn             7043 non-null   object \n",
            "dtypes: float64(1), int64(2), object(18)\n",
            "memory usage: 1.1+ MB\n"
          ]
        }
      ]
    },
    {
      "cell_type": "markdown",
      "metadata": {
        "id": "spokqMJjYxYa"
      },
      "source": [
        "#### "
      ]
    },
    {
      "cell_type": "code",
      "metadata": {
        "id": "kJ3VNT_nYxYa",
        "outputId": "fcb43e42-e30f-4b57-8968-1a011a9a8d26"
      },
      "source": [
        "print (\"Number of rows in the dataset  : \" ,data.shape[0])\n",
        "print (\"Number of Columns in the dataset : \" ,data.shape[1])\n",
        "print (\"Number of Features : \\n\" ,data.columns.tolist())\n",
        "print (\"Missing values :  \", data.isnull().sum().values.sum())\n",
        "print (\"Unique values :  \\n\",data.nunique())"
      ],
      "execution_count": null,
      "outputs": [
        {
          "name": "stdout",
          "output_type": "stream",
          "text": [
            "Number of rows in the dataset  :  7043\n",
            "Number of Columns in the dataset :  21\n",
            "Number of Features : \n",
            " ['customerID', 'gender', 'SeniorCitizen', 'Partner', 'Dependents', 'tenure', 'PhoneService', 'MultipleLines', 'InternetService', 'OnlineSecurity', 'OnlineBackup', 'DeviceProtection', 'TechSupport', 'StreamingTV', 'StreamingMovies', 'Contract', 'PaperlessBilling', 'PaymentMethod', 'MonthlyCharges', 'TotalCharges', 'Churn']\n",
            "Missing values :   0\n",
            "Unique values :  \n",
            " customerID          7043\n",
            "gender                 2\n",
            "SeniorCitizen          2\n",
            "Partner                2\n",
            "Dependents             2\n",
            "tenure                73\n",
            "PhoneService           2\n",
            "MultipleLines          3\n",
            "InternetService        3\n",
            "OnlineSecurity         3\n",
            "OnlineBackup           3\n",
            "DeviceProtection       3\n",
            "TechSupport            3\n",
            "StreamingTV            3\n",
            "StreamingMovies        3\n",
            "Contract               3\n",
            "PaperlessBilling       2\n",
            "PaymentMethod          4\n",
            "MonthlyCharges      1585\n",
            "TotalCharges        6531\n",
            "Churn                  2\n",
            "dtype: int64\n"
          ]
        }
      ]
    },
    {
      "cell_type": "markdown",
      "metadata": {
        "id": "U_gReU3xYxYb"
      },
      "source": [
        "####  So we clearly say that there are missing values in each column. Removing the missing value from the Total Charges, NaN values are present there in the dataset by replacing the value using the regression."
      ]
    },
    {
      "cell_type": "code",
      "metadata": {
        "id": "ivP6IpR3YxYb"
      },
      "source": [
        "\n",
        "\n",
        "data['TotalCharges']=data[\"TotalCharges\"].replace(r'\\s+',np.nan,regex=True)\n",
        "data['TotalCharges']=pd.to_numeric(data['TotalCharges'])"
      ],
      "execution_count": null,
      "outputs": []
    },
    {
      "cell_type": "code",
      "metadata": {
        "id": "FeECm-VEYxYb"
      },
      "source": [
        "fill=data.MonthlyCharges*data.tenure"
      ],
      "execution_count": null,
      "outputs": []
    },
    {
      "cell_type": "code",
      "metadata": {
        "id": "n68UyxLmYxYb"
      },
      "source": [
        "data.TotalCharges.fillna(fill,inplace=True)"
      ],
      "execution_count": null,
      "outputs": []
    },
    {
      "cell_type": "code",
      "metadata": {
        "id": "JvCZ0NAlYxYb"
      },
      "source": [
        "#data.isnull().sum()"
      ],
      "execution_count": null,
      "outputs": []
    },
    {
      "cell_type": "markdown",
      "metadata": {
        "id": "NJdEnqHnYxYc"
      },
      "source": [
        "####  Now the changing the datatype of the columns from object to numerical datat type. And also doing the one hot encoding and label encoding to the columns of the data set which contains the categorical data."
      ]
    },
    {
      "cell_type": "code",
      "metadata": {
        "id": "J84xDEtmYxYc"
      },
      "source": [
        "df=data"
      ],
      "execution_count": null,
      "outputs": []
    },
    {
      "cell_type": "code",
      "metadata": {
        "id": "8mXzTr9oYxYc"
      },
      "source": [
        "def changeColumnsToString(df):\n",
        "    columnsNames=['Partner','Dependents','PhoneService','MultipleLines','OnlineSecurity','OnlineBackup','DeviceProtection','TechSupport','StreamingTV','StreamingMovies','PaperlessBilling','Churn']\n",
        "    for col in columnsNames:\n",
        "        df[col]=df[col].astype('str').str.replace('Yes','1').replace('No','0').replace('No internet service','0').replace('No phone service',0)\n",
        "\n",
        "changeColumnsToString(df)\n",
        "\n",
        "df['SeniorCitizen']=df['SeniorCitizen'].astype(bool)\n",
        "df['TotalCharges']=pd.to_numeric(df['TotalCharges'],errors='coerce')"
      ],
      "execution_count": null,
      "outputs": []
    },
    {
      "cell_type": "code",
      "metadata": {
        "id": "OsiDqFGRYxYc"
      },
      "source": [
        "#df.head()"
      ],
      "execution_count": null,
      "outputs": []
    },
    {
      "cell_type": "code",
      "metadata": {
        "id": "V7Zs3Hs0YxYd",
        "outputId": "520f1075-1bd0-4e93-c9c5-b66a9e84203a"
      },
      "source": [
        "\n",
        "print(\"Payment methods: \",df.PaymentMethod.unique())\n",
        "print(\"Contract types: \",df.Contract.unique())\n",
        "print(\"Gender: \",df.gender.unique())\n",
        "print(\"Senior Citizen: \",df.SeniorCitizen.unique())\n",
        "print(\"Internet Service Types: \",df.InternetService.unique())"
      ],
      "execution_count": null,
      "outputs": [
        {
          "name": "stdout",
          "output_type": "stream",
          "text": [
            "Payment methods:  ['Electronic check' 'Mailed check' 'Bank transfer (automatic)'\n",
            " 'Credit card (automatic)']\n",
            "Contract types:  ['Month-to-month' 'One year' 'Two year']\n",
            "Gender:  ['Female' 'Male']\n",
            "Senior Citizen:  [False  True]\n",
            "Internet Service Types:  ['DSL' 'Fiber optic' 'No']\n"
          ]
        }
      ]
    },
    {
      "cell_type": "code",
      "metadata": {
        "id": "zXebI0qZYxYd"
      },
      "source": [
        "\n",
        "df['gender']=df['gender'].astype('category')\n",
        "df['PaymentMethod']=df['PaymentMethod'].astype('category')\n",
        "df['Contract']=df['Contract'].astype('category')\n",
        "df['SeniorCitizen']=df['SeniorCitizen'].astype('category')\n",
        "df['InternetService']=df['InternetService'].astype('category')\n",
        "#df.dtypes"
      ],
      "execution_count": null,
      "outputs": []
    },
    {
      "cell_type": "code",
      "metadata": {
        "scrolled": true,
        "id": "ItSw10rpYxYd",
        "outputId": "ee15f74b-f1b6-469b-f658-385d6f8f4fc8"
      },
      "source": [
        "dfPaymentDummies = pd.get_dummies(df['PaymentMethod'], prefix = 'payment')\n",
        "dfContractDummies = pd.get_dummies(df['Contract'], prefix = 'contract')\n",
        "dfGenderDummies = pd.get_dummies(df['gender'], prefix = 'gender')\n",
        "dfSeniorCitizenDummies = pd.get_dummies(df['SeniorCitizen'], prefix = 'SC')\n",
        "dfInternetServiceDummies = pd.get_dummies(df['InternetService'], prefix = 'IS')\n",
        "\n",
        "'''\n",
        "print(dfPaymentDummies.head(3))\n",
        "print(dfContractDummies.head(3))\n",
        "print(dfGenderDummies.head(3))\n",
        "print(dfSeniorCitizenDummies.head(3))\n",
        "print(dfInternetServiceDummies.head(3))\n",
        "'''"
      ],
      "execution_count": null,
      "outputs": [
        {
          "data": {
            "text/plain": [
              "'\\nprint(dfPaymentDummies.head(3))\\nprint(dfContractDummies.head(3))\\nprint(dfGenderDummies.head(3))\\nprint(dfSeniorCitizenDummies.head(3))\\nprint(dfInternetServiceDummies.head(3))\\n'"
            ]
          },
          "execution_count": 15,
          "metadata": {},
          "output_type": "execute_result"
        }
      ]
    },
    {
      "cell_type": "code",
      "metadata": {
        "id": "iokcmBbjYxYd",
        "outputId": "cf477ed9-d38d-4a67-de6c-58a9e422ed01"
      },
      "source": [
        "\n",
        "df.drop(['gender','PaymentMethod','Contract','SeniorCitizen','InternetService'], axis=1, inplace=True)\n",
        "\n",
        "df = pd.concat([df, dfPaymentDummies], axis=1)\n",
        "df = pd.concat([df, dfContractDummies], axis=1)\n",
        "df = pd.concat([df, dfGenderDummies], axis=1)\n",
        "df = pd.concat([df, dfSeniorCitizenDummies], axis=1)\n",
        "df = pd.concat([df, dfInternetServiceDummies], axis=1)\n",
        "df.head(2)"
      ],
      "execution_count": null,
      "outputs": [
        {
          "data": {
            "text/html": [
              "<div>\n",
              "<style scoped>\n",
              "    .dataframe tbody tr th:only-of-type {\n",
              "        vertical-align: middle;\n",
              "    }\n",
              "\n",
              "    .dataframe tbody tr th {\n",
              "        vertical-align: top;\n",
              "    }\n",
              "\n",
              "    .dataframe thead th {\n",
              "        text-align: right;\n",
              "    }\n",
              "</style>\n",
              "<table border=\"1\" class=\"dataframe\">\n",
              "  <thead>\n",
              "    <tr style=\"text-align: right;\">\n",
              "      <th></th>\n",
              "      <th>customerID</th>\n",
              "      <th>Partner</th>\n",
              "      <th>Dependents</th>\n",
              "      <th>tenure</th>\n",
              "      <th>PhoneService</th>\n",
              "      <th>MultipleLines</th>\n",
              "      <th>OnlineSecurity</th>\n",
              "      <th>OnlineBackup</th>\n",
              "      <th>DeviceProtection</th>\n",
              "      <th>TechSupport</th>\n",
              "      <th>...</th>\n",
              "      <th>contract_Month-to-month</th>\n",
              "      <th>contract_One year</th>\n",
              "      <th>contract_Two year</th>\n",
              "      <th>gender_Female</th>\n",
              "      <th>gender_Male</th>\n",
              "      <th>SC_False</th>\n",
              "      <th>SC_True</th>\n",
              "      <th>IS_DSL</th>\n",
              "      <th>IS_Fiber optic</th>\n",
              "      <th>IS_No</th>\n",
              "    </tr>\n",
              "  </thead>\n",
              "  <tbody>\n",
              "    <tr>\n",
              "      <th>0</th>\n",
              "      <td>7590-VHVEG</td>\n",
              "      <td>1</td>\n",
              "      <td>0</td>\n",
              "      <td>1</td>\n",
              "      <td>0</td>\n",
              "      <td>0</td>\n",
              "      <td>0</td>\n",
              "      <td>1</td>\n",
              "      <td>0</td>\n",
              "      <td>0</td>\n",
              "      <td>...</td>\n",
              "      <td>1</td>\n",
              "      <td>0</td>\n",
              "      <td>0</td>\n",
              "      <td>1</td>\n",
              "      <td>0</td>\n",
              "      <td>1</td>\n",
              "      <td>0</td>\n",
              "      <td>1</td>\n",
              "      <td>0</td>\n",
              "      <td>0</td>\n",
              "    </tr>\n",
              "    <tr>\n",
              "      <th>1</th>\n",
              "      <td>5575-GNVDE</td>\n",
              "      <td>0</td>\n",
              "      <td>0</td>\n",
              "      <td>34</td>\n",
              "      <td>1</td>\n",
              "      <td>0</td>\n",
              "      <td>1</td>\n",
              "      <td>0</td>\n",
              "      <td>1</td>\n",
              "      <td>0</td>\n",
              "      <td>...</td>\n",
              "      <td>0</td>\n",
              "      <td>1</td>\n",
              "      <td>0</td>\n",
              "      <td>0</td>\n",
              "      <td>1</td>\n",
              "      <td>1</td>\n",
              "      <td>0</td>\n",
              "      <td>1</td>\n",
              "      <td>0</td>\n",
              "      <td>0</td>\n",
              "    </tr>\n",
              "  </tbody>\n",
              "</table>\n",
              "<p>2 rows × 30 columns</p>\n",
              "</div>"
            ],
            "text/plain": [
              "   customerID Partner Dependents  tenure PhoneService MultipleLines  \\\n",
              "0  7590-VHVEG       1          0       1            0             0   \n",
              "1  5575-GNVDE       0          0      34            1             0   \n",
              "\n",
              "  OnlineSecurity OnlineBackup DeviceProtection TechSupport  ...  \\\n",
              "0              0            1                0           0  ...   \n",
              "1              1            0                1           0  ...   \n",
              "\n",
              "  contract_Month-to-month contract_One year contract_Two year  gender_Female  \\\n",
              "0                       1                 0                 0              1   \n",
              "1                       0                 1                 0              0   \n",
              "\n",
              "   gender_Male SC_False  SC_True  IS_DSL  IS_Fiber optic  IS_No  \n",
              "0            0        1        0       1               0      0  \n",
              "1            1        1        0       1               0      0  \n",
              "\n",
              "[2 rows x 30 columns]"
            ]
          },
          "execution_count": 16,
          "metadata": {},
          "output_type": "execute_result"
        }
      ]
    },
    {
      "cell_type": "code",
      "metadata": {
        "id": "CVKmzoq4YxYe"
      },
      "source": [
        "\n",
        "df.columns = ['customerID', 'Partner', 'Dependents', 'tenure', 'PhoneService',\n",
        "       'MultipleLines', 'OnlineSecurity', 'OnlineBackup', 'DeviceProtection',\n",
        "       'TechSupport', 'StreamingTV', 'StreamingMovies', 'PaperlessBilling',\n",
        "       'MonthlyCharges', 'TotalCharges', 'Churn',\n",
        "       'payment_Bank_transfer_auto', 'payment_Credit_card_auto',\n",
        "       'payment_Electronic_check', 'payment_Mailed_check',\n",
        "       'contract_Month_to_month', 'contract_One_year', 'contract_Two_year',\n",
        "       'gender_Female', 'gender_Male', 'SC_False', 'SC_True', 'IS_DSL',\n",
        "       'IS_Fiber_optic', 'IS_No']"
      ],
      "execution_count": null,
      "outputs": []
    },
    {
      "cell_type": "code",
      "metadata": {
        "id": "VH-ertkAYxYe"
      },
      "source": [
        "\n",
        "numericColumns=np.array(['Partner', 'Dependents', 'tenure', 'PhoneService',\n",
        "       'MultipleLines', 'OnlineSecurity', 'OnlineBackup', 'DeviceProtection',\n",
        "       'TechSupport', 'StreamingTV', 'StreamingMovies', 'PaperlessBilling',\n",
        "       'MonthlyCharges', 'TotalCharges', 'Churn',\n",
        "       'payment_Bank_transfer_auto', 'payment_Credit_card_auto',\n",
        "       'payment_Electronic_check', 'payment_Mailed_check',\n",
        "       'contract_Month_to_month', 'contract_One_year', 'contract_Two_year',\n",
        "       'gender_Female', 'gender_Male', 'SC_False', 'SC_True', 'IS_DSL',\n",
        "       'IS_Fiber_optic', 'IS_No'])\n",
        "\n",
        "for columnName in numericColumns:\n",
        "    df[columnName]=pd.to_numeric(df[columnName],errors='coerce')\n",
        "#df.dtypes"
      ],
      "execution_count": null,
      "outputs": []
    },
    {
      "cell_type": "markdown",
      "metadata": {
        "id": "INayQA3RYxYe"
      },
      "source": [
        "#### Finally after dropping the non- essential columns and doing one hot encoding and label encoding. Our final dataset is :"
      ]
    },
    {
      "cell_type": "code",
      "metadata": {
        "scrolled": true,
        "id": "B-0GIn_mYxYf",
        "outputId": "9283f510-b94c-4e52-e639-aef5265f50ad"
      },
      "source": [
        "df.head()"
      ],
      "execution_count": null,
      "outputs": [
        {
          "data": {
            "text/html": [
              "<div>\n",
              "<style scoped>\n",
              "    .dataframe tbody tr th:only-of-type {\n",
              "        vertical-align: middle;\n",
              "    }\n",
              "\n",
              "    .dataframe tbody tr th {\n",
              "        vertical-align: top;\n",
              "    }\n",
              "\n",
              "    .dataframe thead th {\n",
              "        text-align: right;\n",
              "    }\n",
              "</style>\n",
              "<table border=\"1\" class=\"dataframe\">\n",
              "  <thead>\n",
              "    <tr style=\"text-align: right;\">\n",
              "      <th></th>\n",
              "      <th>customerID</th>\n",
              "      <th>Partner</th>\n",
              "      <th>Dependents</th>\n",
              "      <th>tenure</th>\n",
              "      <th>PhoneService</th>\n",
              "      <th>MultipleLines</th>\n",
              "      <th>OnlineSecurity</th>\n",
              "      <th>OnlineBackup</th>\n",
              "      <th>DeviceProtection</th>\n",
              "      <th>TechSupport</th>\n",
              "      <th>...</th>\n",
              "      <th>contract_Month_to_month</th>\n",
              "      <th>contract_One_year</th>\n",
              "      <th>contract_Two_year</th>\n",
              "      <th>gender_Female</th>\n",
              "      <th>gender_Male</th>\n",
              "      <th>SC_False</th>\n",
              "      <th>SC_True</th>\n",
              "      <th>IS_DSL</th>\n",
              "      <th>IS_Fiber_optic</th>\n",
              "      <th>IS_No</th>\n",
              "    </tr>\n",
              "  </thead>\n",
              "  <tbody>\n",
              "    <tr>\n",
              "      <th>0</th>\n",
              "      <td>7590-VHVEG</td>\n",
              "      <td>1</td>\n",
              "      <td>0</td>\n",
              "      <td>1</td>\n",
              "      <td>0</td>\n",
              "      <td>0</td>\n",
              "      <td>0</td>\n",
              "      <td>1</td>\n",
              "      <td>0</td>\n",
              "      <td>0</td>\n",
              "      <td>...</td>\n",
              "      <td>1</td>\n",
              "      <td>0</td>\n",
              "      <td>0</td>\n",
              "      <td>1</td>\n",
              "      <td>0</td>\n",
              "      <td>1</td>\n",
              "      <td>0</td>\n",
              "      <td>1</td>\n",
              "      <td>0</td>\n",
              "      <td>0</td>\n",
              "    </tr>\n",
              "    <tr>\n",
              "      <th>1</th>\n",
              "      <td>5575-GNVDE</td>\n",
              "      <td>0</td>\n",
              "      <td>0</td>\n",
              "      <td>34</td>\n",
              "      <td>1</td>\n",
              "      <td>0</td>\n",
              "      <td>1</td>\n",
              "      <td>0</td>\n",
              "      <td>1</td>\n",
              "      <td>0</td>\n",
              "      <td>...</td>\n",
              "      <td>0</td>\n",
              "      <td>1</td>\n",
              "      <td>0</td>\n",
              "      <td>0</td>\n",
              "      <td>1</td>\n",
              "      <td>1</td>\n",
              "      <td>0</td>\n",
              "      <td>1</td>\n",
              "      <td>0</td>\n",
              "      <td>0</td>\n",
              "    </tr>\n",
              "    <tr>\n",
              "      <th>2</th>\n",
              "      <td>3668-QPYBK</td>\n",
              "      <td>0</td>\n",
              "      <td>0</td>\n",
              "      <td>2</td>\n",
              "      <td>1</td>\n",
              "      <td>0</td>\n",
              "      <td>1</td>\n",
              "      <td>1</td>\n",
              "      <td>0</td>\n",
              "      <td>0</td>\n",
              "      <td>...</td>\n",
              "      <td>1</td>\n",
              "      <td>0</td>\n",
              "      <td>0</td>\n",
              "      <td>0</td>\n",
              "      <td>1</td>\n",
              "      <td>1</td>\n",
              "      <td>0</td>\n",
              "      <td>1</td>\n",
              "      <td>0</td>\n",
              "      <td>0</td>\n",
              "    </tr>\n",
              "    <tr>\n",
              "      <th>3</th>\n",
              "      <td>7795-CFOCW</td>\n",
              "      <td>0</td>\n",
              "      <td>0</td>\n",
              "      <td>45</td>\n",
              "      <td>0</td>\n",
              "      <td>0</td>\n",
              "      <td>1</td>\n",
              "      <td>0</td>\n",
              "      <td>1</td>\n",
              "      <td>1</td>\n",
              "      <td>...</td>\n",
              "      <td>0</td>\n",
              "      <td>1</td>\n",
              "      <td>0</td>\n",
              "      <td>0</td>\n",
              "      <td>1</td>\n",
              "      <td>1</td>\n",
              "      <td>0</td>\n",
              "      <td>1</td>\n",
              "      <td>0</td>\n",
              "      <td>0</td>\n",
              "    </tr>\n",
              "    <tr>\n",
              "      <th>4</th>\n",
              "      <td>9237-HQITU</td>\n",
              "      <td>0</td>\n",
              "      <td>0</td>\n",
              "      <td>2</td>\n",
              "      <td>1</td>\n",
              "      <td>0</td>\n",
              "      <td>0</td>\n",
              "      <td>0</td>\n",
              "      <td>0</td>\n",
              "      <td>0</td>\n",
              "      <td>...</td>\n",
              "      <td>1</td>\n",
              "      <td>0</td>\n",
              "      <td>0</td>\n",
              "      <td>1</td>\n",
              "      <td>0</td>\n",
              "      <td>1</td>\n",
              "      <td>0</td>\n",
              "      <td>0</td>\n",
              "      <td>1</td>\n",
              "      <td>0</td>\n",
              "    </tr>\n",
              "  </tbody>\n",
              "</table>\n",
              "<p>5 rows × 30 columns</p>\n",
              "</div>"
            ],
            "text/plain": [
              "   customerID  Partner  Dependents  tenure  PhoneService  MultipleLines  \\\n",
              "0  7590-VHVEG        1           0       1             0              0   \n",
              "1  5575-GNVDE        0           0      34             1              0   \n",
              "2  3668-QPYBK        0           0       2             1              0   \n",
              "3  7795-CFOCW        0           0      45             0              0   \n",
              "4  9237-HQITU        0           0       2             1              0   \n",
              "\n",
              "   OnlineSecurity  OnlineBackup  DeviceProtection  TechSupport  ...  \\\n",
              "0               0             1                 0            0  ...   \n",
              "1               1             0                 1            0  ...   \n",
              "2               1             1                 0            0  ...   \n",
              "3               1             0                 1            1  ...   \n",
              "4               0             0                 0            0  ...   \n",
              "\n",
              "   contract_Month_to_month  contract_One_year  contract_Two_year  \\\n",
              "0                        1                  0                  0   \n",
              "1                        0                  1                  0   \n",
              "2                        1                  0                  0   \n",
              "3                        0                  1                  0   \n",
              "4                        1                  0                  0   \n",
              "\n",
              "   gender_Female  gender_Male  SC_False  SC_True  IS_DSL  IS_Fiber_optic  \\\n",
              "0              1            0         1        0       1               0   \n",
              "1              0            1         1        0       1               0   \n",
              "2              0            1         1        0       1               0   \n",
              "3              0            1         1        0       1               0   \n",
              "4              1            0         1        0       0               1   \n",
              "\n",
              "   IS_No  \n",
              "0      0  \n",
              "1      0  \n",
              "2      0  \n",
              "3      0  \n",
              "4      0  \n",
              "\n",
              "[5 rows x 30 columns]"
            ]
          },
          "execution_count": 19,
          "metadata": {},
          "output_type": "execute_result"
        }
      ]
    },
    {
      "cell_type": "code",
      "metadata": {
        "id": "xoCQZy6xYxYf"
      },
      "source": [
        "from sklearn.model_selection import train_test_split"
      ],
      "execution_count": null,
      "outputs": []
    },
    {
      "cell_type": "code",
      "metadata": {
        "scrolled": true,
        "id": "xmPS2jMOYxYf",
        "outputId": "931aeccc-e3d2-4c2b-ce6c-3e5db77902d5"
      },
      "source": [
        "df.Churn.value_counts()\n"
      ],
      "execution_count": null,
      "outputs": [
        {
          "data": {
            "text/plain": [
              "0    5174\n",
              "1    1869\n",
              "Name: Churn, dtype: int64"
            ]
          },
          "execution_count": 21,
          "metadata": {},
          "output_type": "execute_result"
        }
      ]
    },
    {
      "cell_type": "code",
      "metadata": {
        "id": "-QMp1xFvYxYf"
      },
      "source": [
        "#spliting the testing and training data \n",
        "\n",
        "\n",
        "df_test=df[5001:]\n",
        "df_train=df[:5001]\n",
        "\n",
        "\n",
        "X_test = df_test.drop('Churn', axis=1)\n",
        "Y_test = df_test['Churn']"
      ],
      "execution_count": null,
      "outputs": []
    },
    {
      "cell_type": "code",
      "metadata": {
        "id": "W_4Zuk_TYxYf"
      },
      "source": [
        ""
      ],
      "execution_count": null,
      "outputs": []
    },
    {
      "cell_type": "markdown",
      "metadata": {
        "id": "29n0dsL0YxYf"
      },
      "source": [
        "### <font color='red'>Up and Down sampling using the Sklearn</font>"
      ]
    },
    {
      "cell_type": "code",
      "metadata": {
        "id": "zaQ-YsDfYxYg"
      },
      "source": [
        "# Separate majority and minority classes\n",
        "df_majority = df_train[df_train.Churn==0]\n",
        "df_minority = df_train[df_train.Churn==1]"
      ],
      "execution_count": null,
      "outputs": []
    },
    {
      "cell_type": "code",
      "metadata": {
        "id": "oJsLW_dDYxYg",
        "outputId": "5abf8bfd-f442-441a-ad95-fff2691a06ac"
      },
      "source": [
        "df_majority.shape,df_minority.shape"
      ],
      "execution_count": null,
      "outputs": [
        {
          "data": {
            "text/plain": [
              "((3688, 30), (1313, 30))"
            ]
          },
          "execution_count": 24,
          "metadata": {},
          "output_type": "execute_result"
        }
      ]
    },
    {
      "cell_type": "code",
      "metadata": {
        "id": "jvdoJuf7YxYg"
      },
      "source": [
        "from sklearn.utils import resample"
      ],
      "execution_count": null,
      "outputs": []
    },
    {
      "cell_type": "code",
      "metadata": {
        "id": "k8C9ImH9YxYg"
      },
      "source": [
        "df_minority_upsampled = resample(df_minority, \n",
        "                                 replace=True,     # sample with replacement\n",
        "                                 n_samples=3688,    # to match majority class\n",
        "                                 random_state=123) "
      ],
      "execution_count": null,
      "outputs": []
    },
    {
      "cell_type": "markdown",
      "metadata": {
        "id": "deTptYPtYxYg"
      },
      "source": [
        "### Upsampling on the dataset is done for increasing the size of the minority class in the dataset"
      ]
    },
    {
      "cell_type": "code",
      "metadata": {
        "id": "Bz2hGGw9YxYg"
      },
      "source": [
        "df_upsampled = pd.concat([df_majority, df_minority_upsampled])"
      ],
      "execution_count": null,
      "outputs": []
    },
    {
      "cell_type": "code",
      "metadata": {
        "id": "rqs73MBeYxYg",
        "outputId": "ae50e685-f26e-4110-e6e3-77ed51f1efa7"
      },
      "source": [
        "df_upsampled"
      ],
      "execution_count": null,
      "outputs": [
        {
          "data": {
            "text/html": [
              "<div>\n",
              "<style scoped>\n",
              "    .dataframe tbody tr th:only-of-type {\n",
              "        vertical-align: middle;\n",
              "    }\n",
              "\n",
              "    .dataframe tbody tr th {\n",
              "        vertical-align: top;\n",
              "    }\n",
              "\n",
              "    .dataframe thead th {\n",
              "        text-align: right;\n",
              "    }\n",
              "</style>\n",
              "<table border=\"1\" class=\"dataframe\">\n",
              "  <thead>\n",
              "    <tr style=\"text-align: right;\">\n",
              "      <th></th>\n",
              "      <th>customerID</th>\n",
              "      <th>Partner</th>\n",
              "      <th>Dependents</th>\n",
              "      <th>tenure</th>\n",
              "      <th>PhoneService</th>\n",
              "      <th>MultipleLines</th>\n",
              "      <th>OnlineSecurity</th>\n",
              "      <th>OnlineBackup</th>\n",
              "      <th>DeviceProtection</th>\n",
              "      <th>TechSupport</th>\n",
              "      <th>...</th>\n",
              "      <th>contract_Month_to_month</th>\n",
              "      <th>contract_One_year</th>\n",
              "      <th>contract_Two_year</th>\n",
              "      <th>gender_Female</th>\n",
              "      <th>gender_Male</th>\n",
              "      <th>SC_False</th>\n",
              "      <th>SC_True</th>\n",
              "      <th>IS_DSL</th>\n",
              "      <th>IS_Fiber_optic</th>\n",
              "      <th>IS_No</th>\n",
              "    </tr>\n",
              "  </thead>\n",
              "  <tbody>\n",
              "    <tr>\n",
              "      <th>0</th>\n",
              "      <td>7590-VHVEG</td>\n",
              "      <td>1</td>\n",
              "      <td>0</td>\n",
              "      <td>1</td>\n",
              "      <td>0</td>\n",
              "      <td>0</td>\n",
              "      <td>0</td>\n",
              "      <td>1</td>\n",
              "      <td>0</td>\n",
              "      <td>0</td>\n",
              "      <td>...</td>\n",
              "      <td>1</td>\n",
              "      <td>0</td>\n",
              "      <td>0</td>\n",
              "      <td>1</td>\n",
              "      <td>0</td>\n",
              "      <td>1</td>\n",
              "      <td>0</td>\n",
              "      <td>1</td>\n",
              "      <td>0</td>\n",
              "      <td>0</td>\n",
              "    </tr>\n",
              "    <tr>\n",
              "      <th>1</th>\n",
              "      <td>5575-GNVDE</td>\n",
              "      <td>0</td>\n",
              "      <td>0</td>\n",
              "      <td>34</td>\n",
              "      <td>1</td>\n",
              "      <td>0</td>\n",
              "      <td>1</td>\n",
              "      <td>0</td>\n",
              "      <td>1</td>\n",
              "      <td>0</td>\n",
              "      <td>...</td>\n",
              "      <td>0</td>\n",
              "      <td>1</td>\n",
              "      <td>0</td>\n",
              "      <td>0</td>\n",
              "      <td>1</td>\n",
              "      <td>1</td>\n",
              "      <td>0</td>\n",
              "      <td>1</td>\n",
              "      <td>0</td>\n",
              "      <td>0</td>\n",
              "    </tr>\n",
              "    <tr>\n",
              "      <th>3</th>\n",
              "      <td>7795-CFOCW</td>\n",
              "      <td>0</td>\n",
              "      <td>0</td>\n",
              "      <td>45</td>\n",
              "      <td>0</td>\n",
              "      <td>0</td>\n",
              "      <td>1</td>\n",
              "      <td>0</td>\n",
              "      <td>1</td>\n",
              "      <td>1</td>\n",
              "      <td>...</td>\n",
              "      <td>0</td>\n",
              "      <td>1</td>\n",
              "      <td>0</td>\n",
              "      <td>0</td>\n",
              "      <td>1</td>\n",
              "      <td>1</td>\n",
              "      <td>0</td>\n",
              "      <td>1</td>\n",
              "      <td>0</td>\n",
              "      <td>0</td>\n",
              "    </tr>\n",
              "    <tr>\n",
              "      <th>6</th>\n",
              "      <td>1452-KIOVK</td>\n",
              "      <td>0</td>\n",
              "      <td>1</td>\n",
              "      <td>22</td>\n",
              "      <td>1</td>\n",
              "      <td>1</td>\n",
              "      <td>0</td>\n",
              "      <td>1</td>\n",
              "      <td>0</td>\n",
              "      <td>0</td>\n",
              "      <td>...</td>\n",
              "      <td>1</td>\n",
              "      <td>0</td>\n",
              "      <td>0</td>\n",
              "      <td>0</td>\n",
              "      <td>1</td>\n",
              "      <td>1</td>\n",
              "      <td>0</td>\n",
              "      <td>0</td>\n",
              "      <td>1</td>\n",
              "      <td>0</td>\n",
              "    </tr>\n",
              "    <tr>\n",
              "      <th>7</th>\n",
              "      <td>6713-OKOMC</td>\n",
              "      <td>0</td>\n",
              "      <td>0</td>\n",
              "      <td>10</td>\n",
              "      <td>0</td>\n",
              "      <td>0</td>\n",
              "      <td>1</td>\n",
              "      <td>0</td>\n",
              "      <td>0</td>\n",
              "      <td>0</td>\n",
              "      <td>...</td>\n",
              "      <td>1</td>\n",
              "      <td>0</td>\n",
              "      <td>0</td>\n",
              "      <td>1</td>\n",
              "      <td>0</td>\n",
              "      <td>1</td>\n",
              "      <td>0</td>\n",
              "      <td>1</td>\n",
              "      <td>0</td>\n",
              "      <td>0</td>\n",
              "    </tr>\n",
              "    <tr>\n",
              "      <th>...</th>\n",
              "      <td>...</td>\n",
              "      <td>...</td>\n",
              "      <td>...</td>\n",
              "      <td>...</td>\n",
              "      <td>...</td>\n",
              "      <td>...</td>\n",
              "      <td>...</td>\n",
              "      <td>...</td>\n",
              "      <td>...</td>\n",
              "      <td>...</td>\n",
              "      <td>...</td>\n",
              "      <td>...</td>\n",
              "      <td>...</td>\n",
              "      <td>...</td>\n",
              "      <td>...</td>\n",
              "      <td>...</td>\n",
              "      <td>...</td>\n",
              "      <td>...</td>\n",
              "      <td>...</td>\n",
              "      <td>...</td>\n",
              "      <td>...</td>\n",
              "    </tr>\n",
              "    <tr>\n",
              "      <th>358</th>\n",
              "      <td>9057-MSWCO</td>\n",
              "      <td>1</td>\n",
              "      <td>0</td>\n",
              "      <td>27</td>\n",
              "      <td>0</td>\n",
              "      <td>0</td>\n",
              "      <td>1</td>\n",
              "      <td>0</td>\n",
              "      <td>0</td>\n",
              "      <td>0</td>\n",
              "      <td>...</td>\n",
              "      <td>1</td>\n",
              "      <td>0</td>\n",
              "      <td>0</td>\n",
              "      <td>0</td>\n",
              "      <td>1</td>\n",
              "      <td>0</td>\n",
              "      <td>1</td>\n",
              "      <td>1</td>\n",
              "      <td>0</td>\n",
              "      <td>0</td>\n",
              "    </tr>\n",
              "    <tr>\n",
              "      <th>2</th>\n",
              "      <td>3668-QPYBK</td>\n",
              "      <td>0</td>\n",
              "      <td>0</td>\n",
              "      <td>2</td>\n",
              "      <td>1</td>\n",
              "      <td>0</td>\n",
              "      <td>1</td>\n",
              "      <td>1</td>\n",
              "      <td>0</td>\n",
              "      <td>0</td>\n",
              "      <td>...</td>\n",
              "      <td>1</td>\n",
              "      <td>0</td>\n",
              "      <td>0</td>\n",
              "      <td>0</td>\n",
              "      <td>1</td>\n",
              "      <td>1</td>\n",
              "      <td>0</td>\n",
              "      <td>1</td>\n",
              "      <td>0</td>\n",
              "      <td>0</td>\n",
              "    </tr>\n",
              "    <tr>\n",
              "      <th>4503</th>\n",
              "      <td>9658-WYUFB</td>\n",
              "      <td>0</td>\n",
              "      <td>0</td>\n",
              "      <td>17</td>\n",
              "      <td>1</td>\n",
              "      <td>1</td>\n",
              "      <td>1</td>\n",
              "      <td>1</td>\n",
              "      <td>0</td>\n",
              "      <td>0</td>\n",
              "      <td>...</td>\n",
              "      <td>1</td>\n",
              "      <td>0</td>\n",
              "      <td>0</td>\n",
              "      <td>1</td>\n",
              "      <td>0</td>\n",
              "      <td>1</td>\n",
              "      <td>0</td>\n",
              "      <td>0</td>\n",
              "      <td>1</td>\n",
              "      <td>0</td>\n",
              "    </tr>\n",
              "    <tr>\n",
              "      <th>1771</th>\n",
              "      <td>7156-MHUGY</td>\n",
              "      <td>0</td>\n",
              "      <td>0</td>\n",
              "      <td>13</td>\n",
              "      <td>1</td>\n",
              "      <td>0</td>\n",
              "      <td>0</td>\n",
              "      <td>0</td>\n",
              "      <td>0</td>\n",
              "      <td>0</td>\n",
              "      <td>...</td>\n",
              "      <td>1</td>\n",
              "      <td>0</td>\n",
              "      <td>0</td>\n",
              "      <td>0</td>\n",
              "      <td>1</td>\n",
              "      <td>0</td>\n",
              "      <td>1</td>\n",
              "      <td>0</td>\n",
              "      <td>1</td>\n",
              "      <td>0</td>\n",
              "    </tr>\n",
              "    <tr>\n",
              "      <th>3841</th>\n",
              "      <td>4039-HEUNW</td>\n",
              "      <td>1</td>\n",
              "      <td>0</td>\n",
              "      <td>36</td>\n",
              "      <td>1</td>\n",
              "      <td>1</td>\n",
              "      <td>0</td>\n",
              "      <td>1</td>\n",
              "      <td>0</td>\n",
              "      <td>0</td>\n",
              "      <td>...</td>\n",
              "      <td>1</td>\n",
              "      <td>0</td>\n",
              "      <td>0</td>\n",
              "      <td>0</td>\n",
              "      <td>1</td>\n",
              "      <td>0</td>\n",
              "      <td>1</td>\n",
              "      <td>0</td>\n",
              "      <td>1</td>\n",
              "      <td>0</td>\n",
              "    </tr>\n",
              "  </tbody>\n",
              "</table>\n",
              "<p>7376 rows × 30 columns</p>\n",
              "</div>"
            ],
            "text/plain": [
              "      customerID  Partner  Dependents  tenure  PhoneService  MultipleLines  \\\n",
              "0     7590-VHVEG        1           0       1             0              0   \n",
              "1     5575-GNVDE        0           0      34             1              0   \n",
              "3     7795-CFOCW        0           0      45             0              0   \n",
              "6     1452-KIOVK        0           1      22             1              1   \n",
              "7     6713-OKOMC        0           0      10             0              0   \n",
              "...          ...      ...         ...     ...           ...            ...   \n",
              "358   9057-MSWCO        1           0      27             0              0   \n",
              "2     3668-QPYBK        0           0       2             1              0   \n",
              "4503  9658-WYUFB        0           0      17             1              1   \n",
              "1771  7156-MHUGY        0           0      13             1              0   \n",
              "3841  4039-HEUNW        1           0      36             1              1   \n",
              "\n",
              "      OnlineSecurity  OnlineBackup  DeviceProtection  TechSupport  ...  \\\n",
              "0                  0             1                 0            0  ...   \n",
              "1                  1             0                 1            0  ...   \n",
              "3                  1             0                 1            1  ...   \n",
              "6                  0             1                 0            0  ...   \n",
              "7                  1             0                 0            0  ...   \n",
              "...              ...           ...               ...          ...  ...   \n",
              "358                1             0                 0            0  ...   \n",
              "2                  1             1                 0            0  ...   \n",
              "4503               1             1                 0            0  ...   \n",
              "1771               0             0                 0            0  ...   \n",
              "3841               0             1                 0            0  ...   \n",
              "\n",
              "      contract_Month_to_month  contract_One_year  contract_Two_year  \\\n",
              "0                           1                  0                  0   \n",
              "1                           0                  1                  0   \n",
              "3                           0                  1                  0   \n",
              "6                           1                  0                  0   \n",
              "7                           1                  0                  0   \n",
              "...                       ...                ...                ...   \n",
              "358                         1                  0                  0   \n",
              "2                           1                  0                  0   \n",
              "4503                        1                  0                  0   \n",
              "1771                        1                  0                  0   \n",
              "3841                        1                  0                  0   \n",
              "\n",
              "      gender_Female  gender_Male  SC_False  SC_True  IS_DSL  IS_Fiber_optic  \\\n",
              "0                 1            0         1        0       1               0   \n",
              "1                 0            1         1        0       1               0   \n",
              "3                 0            1         1        0       1               0   \n",
              "6                 0            1         1        0       0               1   \n",
              "7                 1            0         1        0       1               0   \n",
              "...             ...          ...       ...      ...     ...             ...   \n",
              "358               0            1         0        1       1               0   \n",
              "2                 0            1         1        0       1               0   \n",
              "4503              1            0         1        0       0               1   \n",
              "1771              0            1         0        1       0               1   \n",
              "3841              0            1         0        1       0               1   \n",
              "\n",
              "      IS_No  \n",
              "0         0  \n",
              "1         0  \n",
              "3         0  \n",
              "6         0  \n",
              "7         0  \n",
              "...     ...  \n",
              "358       0  \n",
              "2         0  \n",
              "4503      0  \n",
              "1771      0  \n",
              "3841      0  \n",
              "\n",
              "[7376 rows x 30 columns]"
            ]
          },
          "execution_count": 28,
          "metadata": {},
          "output_type": "execute_result"
        }
      ]
    },
    {
      "cell_type": "code",
      "metadata": {
        "id": "_JcSHQuEYxYh"
      },
      "source": [
        "df_up=df_upsampled.sample(frac=1)"
      ],
      "execution_count": null,
      "outputs": []
    },
    {
      "cell_type": "code",
      "metadata": {
        "scrolled": true,
        "id": "iyepGSKXYxYh",
        "outputId": "7e00e39d-ba92-43ad-f477-99137d9a1e40"
      },
      "source": [
        "df_up['Churn'].value_counts()"
      ],
      "execution_count": null,
      "outputs": [
        {
          "data": {
            "text/plain": [
              "1    3688\n",
              "0    3688\n",
              "Name: Churn, dtype: int64"
            ]
          },
          "execution_count": 30,
          "metadata": {},
          "output_type": "execute_result"
        }
      ]
    },
    {
      "cell_type": "code",
      "metadata": {
        "id": "5qHrPInoYxYh",
        "outputId": "8a8b2259-3f62-4cc0-f1da-d34c7ea7b64f"
      },
      "source": [
        "# Dividing the dataset into two part one having onlty the target value and other having all other columns\n",
        "X_up = df_up.drop('Churn', axis=1)\n",
        "Y_up = df_up['Churn']\n",
        "\n",
        "X_up.shape, X_test.shape,Y_up.shape, Y_test.shape"
      ],
      "execution_count": null,
      "outputs": [
        {
          "data": {
            "text/plain": [
              "((7376, 29), (2042, 29), (7376,), (2042,))"
            ]
          },
          "execution_count": 31,
          "metadata": {},
          "output_type": "execute_result"
        }
      ]
    },
    {
      "cell_type": "code",
      "metadata": {
        "id": "cmHcRP1VYxYh",
        "outputId": "333686af-2544-4e8a-bff3-00ce4db2e81f"
      },
      "source": [
        "X_up=X_up.drop('customerID', axis=1)\n",
        "X_test=X_test.drop('customerID', axis=1)\n",
        "\n",
        "from sklearn.linear_model import LogisticRegression\n",
        "logistic_model = LogisticRegression(penalty='l2', C=1.0, solver='liblinear').fit(X_up,Y_up)\n",
        "y_pred = logistic_model.predict(X_test)\n",
        "\n",
        "acc = accuracy_score(Y_test, y_pred)\n",
        "prec = precision_score(Y_test, y_pred)\n",
        "recall = recall_score(Y_test, y_pred)\n",
        "f1 = f1_score(Y_test, y_pred)\n",
        "print(\"accuracy_score : \", acc)\n",
        "print(\"precision_score : \", prec)\n",
        "print(\"recall_score : \", recall)\n",
        "print(\"f1_score : \", f1)\n",
        "\n",
        "target_names = ['class 0', 'class 1']\n",
        "print(classification_report(Y_test, y_pred, target_names=target_names))\n",
        "cf_matrix=confusion_matrix(y_pred,Y_test)\n",
        "cf_matrix"
      ],
      "execution_count": null,
      "outputs": [
        {
          "name": "stdout",
          "output_type": "stream",
          "text": [
            "accuracy_score :  0.7487757100881489\n",
            "precision_score :  0.5266418835192069\n",
            "recall_score :  0.7643884892086331\n",
            "f1_score :  0.623624358033749\n",
            "              precision    recall  f1-score   support\n",
            "\n",
            "     class 0       0.89      0.74      0.81      1486\n",
            "     class 1       0.53      0.76      0.62       556\n",
            "\n",
            "    accuracy                           0.75      2042\n",
            "   macro avg       0.71      0.75      0.72      2042\n",
            "weighted avg       0.79      0.75      0.76      2042\n",
            "\n"
          ]
        },
        {
          "data": {
            "text/plain": [
              "array([[1104,  131],\n",
              "       [ 382,  425]], dtype=int64)"
            ]
          },
          "execution_count": 32,
          "metadata": {},
          "output_type": "execute_result"
        }
      ]
    },
    {
      "cell_type": "markdown",
      "metadata": {
        "id": "YjOmS5glYxYh"
      },
      "source": [
        "### Downsampling on the dataset is done for decreasing the size of the majority class in the dataset"
      ]
    },
    {
      "cell_type": "code",
      "metadata": {
        "id": "LIuX7venYxYh"
      },
      "source": [
        "df_majority_downsampled = resample(df_majority, \n",
        "                                 replace=True,    # sample without replacement\n",
        "                                 n_samples=1313,     # to match minority class\n",
        "                                 random_state=123) # reproducible results\n",
        " \n",
        "# Combine minority class with downsampled majority class\n",
        "df_downsampled = pd.concat([df_majority_downsampled, df_minority])"
      ],
      "execution_count": null,
      "outputs": []
    },
    {
      "cell_type": "code",
      "metadata": {
        "id": "ZH9BkhK-YxYh"
      },
      "source": [
        "df_down=df_downsampled.sample(frac=1)"
      ],
      "execution_count": null,
      "outputs": []
    },
    {
      "cell_type": "code",
      "metadata": {
        "scrolled": false,
        "id": "k_EJ1zHeYxYi",
        "outputId": "41bc075f-fffe-401f-ce34-6f1e742c42de"
      },
      "source": [
        "df_down['Churn'].value_counts()"
      ],
      "execution_count": null,
      "outputs": [
        {
          "data": {
            "text/plain": [
              "1    1313\n",
              "0    1313\n",
              "Name: Churn, dtype: int64"
            ]
          },
          "execution_count": 35,
          "metadata": {},
          "output_type": "execute_result"
        }
      ]
    },
    {
      "cell_type": "code",
      "metadata": {
        "id": "2hwYBpKiYxYi",
        "outputId": "3f5786e1-7224-40d9-bc9e-a9a36c42183e"
      },
      "source": [
        "\n",
        "# Dividing the dataset into two part one having onlty the target value and other having all other columns\n",
        "X_down = df_down.drop('Churn', axis=1)\n",
        "Y_down= df_down['Churn']\n",
        "\n",
        "X_down.shape, X_test.shape,Y_down.shape, Y_test.shape"
      ],
      "execution_count": null,
      "outputs": [
        {
          "data": {
            "text/plain": [
              "((2626, 29), (2042, 28), (2626,), (2042,))"
            ]
          },
          "execution_count": 36,
          "metadata": {},
          "output_type": "execute_result"
        }
      ]
    },
    {
      "cell_type": "code",
      "metadata": {
        "id": "UO-mZkSIYxYi",
        "outputId": "cd98b4a5-1cbd-40f8-ea89-b6446a51b820"
      },
      "source": [
        "X_down=X_down.drop('customerID', axis=1)\n",
        "#X_test=X_test.drop('customerID', axis=1)\n",
        "\n",
        "from sklearn.linear_model import LogisticRegression\n",
        "logistic_model = LogisticRegression(penalty='l2', C=1.0, solver='liblinear').fit(X_down, Y_down)\n",
        "y_pred = logistic_model.predict(X_test)\n",
        "\n",
        "acc = accuracy_score(Y_test, y_pred)\n",
        "prec = precision_score(Y_test, y_pred)\n",
        "recall = recall_score(Y_test, y_pred)\n",
        "f1 = f1_score(Y_test, y_pred)\n",
        "print(\"accuracy_score : \", acc)\n",
        "print(\"precision_score : \", prec)\n",
        "print(\"recall_score : \", recall)\n",
        "print(\"f1_score : \", f1)\n",
        "\n",
        "target_names = ['class 0', 'class 1']\n",
        "print(classification_report(Y_test, y_pred, target_names=target_names))\n",
        "cf_matrix=confusion_matrix(y_pred, Y_test)\n",
        "cf_matrix"
      ],
      "execution_count": null,
      "outputs": [
        {
          "name": "stdout",
          "output_type": "stream",
          "text": [
            "accuracy_score :  0.7463271302644466\n",
            "precision_score :  0.5233415233415234\n",
            "recall_score :  0.7661870503597122\n",
            "f1_score :  0.6218978102189782\n",
            "              precision    recall  f1-score   support\n",
            "\n",
            "     class 0       0.89      0.74      0.81      1486\n",
            "     class 1       0.52      0.77      0.62       556\n",
            "\n",
            "    accuracy                           0.75      2042\n",
            "   macro avg       0.71      0.75      0.72      2042\n",
            "weighted avg       0.79      0.75      0.76      2042\n",
            "\n"
          ]
        },
        {
          "data": {
            "text/plain": [
              "array([[1098,  130],\n",
              "       [ 388,  426]], dtype=int64)"
            ]
          },
          "execution_count": 37,
          "metadata": {},
          "output_type": "execute_result"
        }
      ]
    },
    {
      "cell_type": "markdown",
      "metadata": {
        "id": "WGqCDfcPYxYi"
      },
      "source": [
        "### <font color='red'>SMOTE</font>\n",
        "\n",
        "SMOTE stands for Synthetic Minority Oversampling Technique. This is a statistical technique for increasing the number of cases in your dataset in a balanced way. The module works by generating new instances from existing minority cases that you supply as input."
      ]
    },
    {
      "cell_type": "code",
      "metadata": {
        "id": "en109jRzYxYi"
      },
      "source": [
        ""
      ],
      "execution_count": null,
      "outputs": []
    },
    {
      "cell_type": "code",
      "metadata": {
        "id": "9RNjX77YYxYi",
        "outputId": "c2de27cf-dfd1-454c-8068-4f979dce4ae6"
      },
      "source": [
        "df_train.Churn.value_counts()\n"
      ],
      "execution_count": null,
      "outputs": [
        {
          "data": {
            "text/plain": [
              "0    3688\n",
              "1    1313\n",
              "Name: Churn, dtype: int64"
            ]
          },
          "execution_count": 38,
          "metadata": {},
          "output_type": "execute_result"
        }
      ]
    },
    {
      "cell_type": "code",
      "metadata": {
        "id": "zgQhANCTYxYi",
        "outputId": "46c67cde-587f-470b-af86-c08165cd308c"
      },
      "source": [
        "X_train_smote=df_train.drop(['customerID','Churn'],axis=1)\n",
        "Y_train_smote=df_train['Churn']\n",
        "X_train_smote.shape,Y_train_smote.shape"
      ],
      "execution_count": null,
      "outputs": [
        {
          "data": {
            "text/plain": [
              "((5001, 28), (5001,))"
            ]
          },
          "execution_count": 39,
          "metadata": {},
          "output_type": "execute_result"
        }
      ]
    },
    {
      "cell_type": "code",
      "metadata": {
        "id": "tUHfIgMdYxYj"
      },
      "source": [
        "from imblearn.over_sampling import SMOTE\n",
        "sm = SMOTE(random_state = 2)\n",
        "X_train_res, y_train_res = sm.fit_resample(X_train_smote, Y_train_smote.ravel())"
      ],
      "execution_count": null,
      "outputs": []
    },
    {
      "cell_type": "code",
      "metadata": {
        "id": "lUv5EOGOYxYj",
        "outputId": "2a47de1d-6554-4272-d073-61bd74b13d04"
      },
      "source": [
        "X_train_res.shape, y_train_res.shape"
      ],
      "execution_count": null,
      "outputs": [
        {
          "data": {
            "text/plain": [
              "((7376, 28), (7376,))"
            ]
          },
          "execution_count": 41,
          "metadata": {},
          "output_type": "execute_result"
        }
      ]
    },
    {
      "cell_type": "code",
      "metadata": {
        "id": "qT2gzK2sYxYj",
        "outputId": "bb5c323f-c76f-4c65-85fb-fbe23f51b554"
      },
      "source": [
        "len(y_train_res[y_train_res==0]),len(y_train_res[y_train_res==1])"
      ],
      "execution_count": null,
      "outputs": [
        {
          "data": {
            "text/plain": [
              "(3688, 3688)"
            ]
          },
          "execution_count": 42,
          "metadata": {},
          "output_type": "execute_result"
        }
      ]
    },
    {
      "cell_type": "code",
      "metadata": {
        "id": "h7oJQlFuYxYj"
      },
      "source": [
        ""
      ],
      "execution_count": null,
      "outputs": []
    },
    {
      "cell_type": "code",
      "metadata": {
        "id": "MZWTe5L8YxYj",
        "outputId": "fc1dcd45-f74f-47cb-9f79-592f2b880885"
      },
      "source": [
        "\n",
        "from sklearn.linear_model import LogisticRegression\n",
        "logistic_model = LogisticRegression(penalty='l2', C=1.0, solver='liblinear').fit(X_train_res, y_train_res)\n",
        "y_pred = logistic_model.predict(X_test)\n",
        "\n",
        "acc = accuracy_score(Y_test, y_pred)\n",
        "prec = precision_score(Y_test, y_pred)\n",
        "recall = recall_score(Y_test, y_pred)\n",
        "f1 = f1_score(Y_test, y_pred)\n",
        "print(\"accuracy_score : \", acc)\n",
        "print(\"precision_score : \", prec)\n",
        "print(\"recall_score : \", recall)\n",
        "print(\"f1_score : \", f1)\n",
        "\n",
        "target_names = ['class 0', 'class 1']\n",
        "print(classification_report(Y_test, y_pred, target_names=target_names))\n",
        "cf_matrix=confusion_matrix(y_pred, Y_test)\n",
        "cf_matrix"
      ],
      "execution_count": null,
      "outputs": [
        {
          "name": "stdout",
          "output_type": "stream",
          "text": [
            "accuracy_score :  0.7850146914789422\n",
            "precision_score :  0.6017391304347826\n",
            "recall_score :  0.6223021582733813\n",
            "f1_score :  0.6118479221927499\n",
            "              precision    recall  f1-score   support\n",
            "\n",
            "     class 0       0.86      0.85      0.85      1486\n",
            "     class 1       0.60      0.62      0.61       556\n",
            "\n",
            "    accuracy                           0.79      2042\n",
            "   macro avg       0.73      0.73      0.73      2042\n",
            "weighted avg       0.79      0.79      0.79      2042\n",
            "\n"
          ]
        },
        {
          "data": {
            "text/plain": [
              "array([[1257,  210],\n",
              "       [ 229,  346]], dtype=int64)"
            ]
          },
          "execution_count": 43,
          "metadata": {},
          "output_type": "execute_result"
        }
      ]
    },
    {
      "cell_type": "code",
      "metadata": {
        "id": "xtOk32hHYxYj"
      },
      "source": [
        ""
      ],
      "execution_count": null,
      "outputs": []
    },
    {
      "cell_type": "markdown",
      "metadata": {
        "id": "ov9TWFMHYxYj"
      },
      "source": [
        "### <font color='red'>ADASYN</font>\n",
        "\n",
        "ADASYN is based on the idea of adaptively generating minority data samples according to their distributions: more synthetic data is generated for minority class samples that are harder to learn compared to those minority samples that are easier to learn.\n"
      ]
    },
    {
      "cell_type": "code",
      "metadata": {
        "id": "gv6rIhsJYxYj",
        "outputId": "398eecdc-d3fa-435a-90e5-8ab74a91109b"
      },
      "source": [
        "X_train_adas=df_train.drop(['customerID','Churn'],axis=1)\n",
        "Y_train_adas=df_train['Churn']\n",
        "X_train_adas.shape,Y_train_adas.shape"
      ],
      "execution_count": null,
      "outputs": [
        {
          "data": {
            "text/plain": [
              "((5001, 28), (5001,))"
            ]
          },
          "execution_count": 44,
          "metadata": {},
          "output_type": "execute_result"
        }
      ]
    },
    {
      "cell_type": "code",
      "metadata": {
        "id": "2cnjJ8XiYxYk"
      },
      "source": [
        "from imblearn.over_sampling import ADASYN\n",
        "sm = ADASYN(random_state = 2)\n",
        "X_train_ada, y_train_ada = sm.fit_resample(X_train_adas, Y_train_adas.ravel())"
      ],
      "execution_count": null,
      "outputs": []
    },
    {
      "cell_type": "code",
      "metadata": {
        "id": "rKbD9E5KYxYk",
        "outputId": "52d7b57a-7d94-4fb8-aac5-d8bc5e7d291e"
      },
      "source": [
        "X_train_ada.shape, y_train_ada.shape"
      ],
      "execution_count": null,
      "outputs": [
        {
          "data": {
            "text/plain": [
              "((7371, 28), (7371,))"
            ]
          },
          "execution_count": 46,
          "metadata": {},
          "output_type": "execute_result"
        }
      ]
    },
    {
      "cell_type": "code",
      "metadata": {
        "id": "o0Z-jnREYxYk",
        "outputId": "34d91883-b9a2-486a-9652-84c824171bec"
      },
      "source": [
        "len(y_train_ada[y_train_ada==0]),len(y_train_ada[y_train_ada==1])"
      ],
      "execution_count": null,
      "outputs": [
        {
          "data": {
            "text/plain": [
              "(3688, 3683)"
            ]
          },
          "execution_count": 47,
          "metadata": {},
          "output_type": "execute_result"
        }
      ]
    },
    {
      "cell_type": "code",
      "metadata": {
        "id": "Kn3ENaJ6YxYk",
        "outputId": "25c1761f-ada1-453c-a4f6-c02a8c953ea7"
      },
      "source": [
        "\n",
        "from sklearn.linear_model import LogisticRegression\n",
        "logistic_model = LogisticRegression(penalty='l2', C=1.0, solver='liblinear').fit(X_train_ada, y_train_ada)\n",
        "y_pred = logistic_model.predict(X_test)\n",
        "\n",
        "acc = accuracy_score(Y_test, y_pred)\n",
        "prec = precision_score(Y_test, y_pred)\n",
        "recall = recall_score(Y_test, y_pred)\n",
        "f1 = f1_score(Y_test, y_pred)\n",
        "print(\"accuracy_score : \", acc)\n",
        "print(\"precision_score : \", prec)\n",
        "print(\"recall_score : \", recall)\n",
        "print(\"f1_score : \", f1)\n",
        "\n",
        "target_names = ['class 0', 'class 1']\n",
        "print(classification_report(Y_test, y_pred, target_names=target_names))\n",
        "cf_matrix=confusion_matrix(y_pred, Y_test)\n",
        "cf_matrix"
      ],
      "execution_count": null,
      "outputs": [
        {
          "name": "stdout",
          "output_type": "stream",
          "text": [
            "accuracy_score :  0.7928501469147894\n",
            "precision_score :  0.6276391554702495\n",
            "recall_score :  0.5881294964028777\n",
            "f1_score :  0.607242339832869\n",
            "              precision    recall  f1-score   support\n",
            "\n",
            "     class 0       0.85      0.87      0.86      1486\n",
            "     class 1       0.63      0.59      0.61       556\n",
            "\n",
            "    accuracy                           0.79      2042\n",
            "   macro avg       0.74      0.73      0.73      2042\n",
            "weighted avg       0.79      0.79      0.79      2042\n",
            "\n"
          ]
        },
        {
          "data": {
            "text/plain": [
              "array([[1292,  229],\n",
              "       [ 194,  327]], dtype=int64)"
            ]
          },
          "execution_count": 48,
          "metadata": {},
          "output_type": "execute_result"
        }
      ]
    },
    {
      "cell_type": "markdown",
      "metadata": {
        "id": "vJIeOlb1YxYl"
      },
      "source": [
        "### <font color='red'>SMOTE + ENN</font>\n",
        "\n",
        "SMOTE + ENN is another hybrid technique where more no. of observations are removed from the sample space. Here, ENN is yet another undersampling technique where the nearest neighbors of each of the majority class is estimated. If the nearest neighbors misclassify that particular instance of the majority class, then that instance gets deleted.\n",
        "Integrating this technique with oversampled data done by SMOTE helps in doing extensive data cleaning. Here on misclassification by NN’s samples from both the classes are removed. This results in a more clear and concise class separation."
      ]
    },
    {
      "cell_type": "code",
      "metadata": {
        "id": "hwHYBEd9YxYq",
        "outputId": "d0d9f63e-1d73-4585-86e7-326e4a6a5832"
      },
      "source": [
        "X_train_se=df_train.drop(['customerID','Churn'],axis=1)\n",
        "Y_train_se=df_train['Churn']\n",
        "X_train_se.shape,Y_train_se.shape"
      ],
      "execution_count": null,
      "outputs": [
        {
          "data": {
            "text/plain": [
              "((5001, 28), (5001,))"
            ]
          },
          "execution_count": 49,
          "metadata": {},
          "output_type": "execute_result"
        }
      ]
    },
    {
      "cell_type": "code",
      "metadata": {
        "id": "_zGats19YxYq"
      },
      "source": [
        "from imblearn.combine import SMOTEENN\n",
        "sm = SMOTEENN(random_state = 2)\n",
        "X_train_sen, y_train_sen = sm.fit_resample(X_train_se, Y_train_se.ravel())"
      ],
      "execution_count": null,
      "outputs": []
    },
    {
      "cell_type": "code",
      "metadata": {
        "id": "hy6gNqvaYxYr",
        "outputId": "ef681a3a-9390-455e-f30f-ccee82e10389"
      },
      "source": [
        "X_train_sen.shape,y_train_sen.shape"
      ],
      "execution_count": null,
      "outputs": [
        {
          "data": {
            "text/plain": [
              "((4246, 28), (4246,))"
            ]
          },
          "execution_count": 51,
          "metadata": {},
          "output_type": "execute_result"
        }
      ]
    },
    {
      "cell_type": "code",
      "metadata": {
        "id": "KUVjWBKpYxYr",
        "outputId": "e8b9b991-dfbe-4595-8e61-bbb70770aa74"
      },
      "source": [
        "from sklearn.linear_model import LogisticRegression\n",
        "logistic_model = LogisticRegression(penalty='l2', C=1.0, solver='liblinear').fit(X_train_sen, y_train_sen)\n",
        "y_pred = logistic_model.predict(X_test)\n",
        "\n",
        "acc = accuracy_score(Y_test, y_pred)\n",
        "prec = precision_score(Y_test, y_pred)\n",
        "recall = recall_score(Y_test, y_pred)\n",
        "f1 = f1_score(Y_test, y_pred)\n",
        "print(\"accuracy_score : \", acc)\n",
        "print(\"precision_score : \", prec)\n",
        "print(\"recall_score : \", recall)\n",
        "print(\"f1_score : \", f1)\n",
        "\n",
        "target_names = ['class 0', 'class 1']\n",
        "print(classification_report(Y_test, y_pred, target_names=target_names))\n",
        "cf_matrix=confusion_matrix(y_pred, Y_test)\n",
        "cf_matrix"
      ],
      "execution_count": null,
      "outputs": [
        {
          "name": "stdout",
          "output_type": "stream",
          "text": [
            "accuracy_score :  0.7605288932419196\n",
            "precision_score :  0.5472496473906912\n",
            "recall_score :  0.697841726618705\n",
            "f1_score :  0.6134387351778656\n",
            "              precision    recall  f1-score   support\n",
            "\n",
            "     class 0       0.87      0.78      0.83      1486\n",
            "     class 1       0.55      0.70      0.61       556\n",
            "\n",
            "    accuracy                           0.76      2042\n",
            "   macro avg       0.71      0.74      0.72      2042\n",
            "weighted avg       0.79      0.76      0.77      2042\n",
            "\n"
          ]
        },
        {
          "data": {
            "text/plain": [
              "array([[1165,  168],\n",
              "       [ 321,  388]], dtype=int64)"
            ]
          },
          "execution_count": 52,
          "metadata": {},
          "output_type": "execute_result"
        }
      ]
    },
    {
      "cell_type": "code",
      "metadata": {
        "id": "Kds5tFkMYxYr"
      },
      "source": [
        ""
      ],
      "execution_count": null,
      "outputs": []
    },
    {
      "cell_type": "code",
      "metadata": {
        "id": "DlD1P-xoYxYr"
      },
      "source": [
        ""
      ],
      "execution_count": null,
      "outputs": []
    }
  ]
}